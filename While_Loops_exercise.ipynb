{
 "cells": [
  {
   "cell_type": "markdown",
   "metadata": {},
   "source": [
    "### --- WHILE LOOP EXERCISES ---"
   ]
  },
  {
   "cell_type": "markdown",
   "metadata": {},
   "source": [
    "### Infinte Loop Question"
   ]
  },
  {
   "cell_type": "markdown",
   "metadata": {},
   "source": [
    "**Q1:**  The following cell has code containing an infinte loop in it. Change it so that when run, it will stop.   \n",
    "\n",
    "If you try something and nothing is printed, then an infinite loop is probably still there.   \n",
    "To stop the notebook from calculating on forever, navigate to the top bar, click on the *Kernel* tab, and click on *Interrupt*.  \n",
    "This forcibly stops Python from executing.   \n",
    "<details><summary>\n",
    "Click <b>here</b> if you can't find it.\n",
    "</summary>\n",
    "<center><img src='./interrupt.png' width='40%' style='border:1px solid #FFFF00'></center>\n",
    "</details>\n"
   ]
  },
  {
   "cell_type": "code",
   "execution_count": 1,
   "metadata": {},
   "outputs": [
    {
     "ename": "KeyboardInterrupt",
     "evalue": "",
     "output_type": "error",
     "traceback": [
      "\u001b[31m---------------------------------------------------------------------------\u001b[39m",
      "\u001b[31mKeyboardInterrupt\u001b[39m                         Traceback (most recent call last)",
      "\u001b[36mCell\u001b[39m\u001b[36m \u001b[39m\u001b[32mIn[1]\u001b[39m\u001b[32m, line 2\u001b[39m\n\u001b[32m      1\u001b[39m total, x = \u001b[32m0\u001b[39m, \u001b[32m1\u001b[39m\n\u001b[32m----> \u001b[39m\u001b[32m2\u001b[39m \u001b[38;5;28;01mwhile\u001b[39;00m x >= \u001b[32m0\u001b[39m:\n\u001b[32m      3\u001b[39m     total += x\n\u001b[32m      4\u001b[39m     x += \u001b[32m1\u001b[39m\n",
      "\u001b[31mKeyboardInterrupt\u001b[39m: "
     ]
    }
   ],
   "source": [
    "total, x = 0, 1\n",
    "while x >= 0:\n",
    "    total += x\n",
    "    x += 1\n",
    "print(total)"
   ]
  },
  {
   "cell_type": "markdown",
   "metadata": {},
   "source": [
    "### `while` loop to sum number from 1 to 10"
   ]
  },
  {
   "cell_type": "markdown",
   "metadata": {},
   "source": [
    "**Q2:** Wse a `while` loop to sum number from 1 to 10"
   ]
  },
  {
   "cell_type": "code",
   "execution_count": 24,
   "metadata": {},
   "outputs": [
    {
     "name": "stdout",
     "output_type": "stream",
     "text": [
      " the Sum ist : 55\n"
     ]
    }
   ],
   "source": [
    "i = 1\n",
    "num_sum = 0\n",
    "while i <=10:\n",
    "    num_sum += i\n",
    "    i += 1\n",
    "    \n",
    "print(f' the Sum ist : {num_sum}')\n",
    "\n",
    "# Enter code below"
   ]
  },
  {
   "cell_type": "markdown",
   "metadata": {},
   "source": [
    "### While loop for searching a data structure"
   ]
  },
  {
   "cell_type": "markdown",
   "metadata": {},
   "source": [
    "**Q3:** Write a `while` loop that searches for 'Waldo' in the list of names and stops if it is found.\n"
   ]
  },
  {
   "cell_type": "code",
   "execution_count": 16,
   "metadata": {},
   "outputs": [],
   "source": [
    "\n",
    "names  = ['Alice', 'Diane', 'Tom', 'Bob', 'Waldo', 'Ross', 'Sonia', 'Amy']\n",
    "\n",
    "found = False\n",
    "i = 0"
   ]
  },
  {
   "cell_type": "code",
   "execution_count": 8,
   "metadata": {},
   "outputs": [
    {
     "name": "stdout",
     "output_type": "stream",
     "text": [
      "Found Waldo\n"
     ]
    }
   ],
   "source": [
    "name = \"\"\n",
    "while name != 'Waldo':\n",
    "    name = input('enter the name: ')\n",
    "print('Found Waldo')\n",
    "        \n",
    "        "
   ]
  },
  {
   "cell_type": "code",
   "execution_count": 17,
   "metadata": {},
   "outputs": [
    {
     "name": "stdout",
     "output_type": "stream",
     "text": [
      "checking:  Alice\n",
      "checking:  Diane\n",
      "checking:  Tom\n",
      "checking:  Bob\n",
      "checking:  Waldo\n",
      "Found Waldo\n"
     ]
    }
   ],
   "source": [
    "while i < len(names):\n",
    "    print('checking: ', names[i])\n",
    "    if names[i] == 'Waldo':\n",
    "        print('Found Waldo')\n",
    "        i = len(names)\n",
    "    else:\n",
    "        i += 1"
   ]
  },
  {
   "cell_type": "markdown",
   "metadata": {},
   "source": [
    "**Q4:** but what if Waldo is not there ?? Take the loop from Q3 and add a condition to print 'We found Waldo!' if 'Waldo' was found."
   ]
  },
  {
   "cell_type": "code",
   "execution_count": 22,
   "metadata": {},
   "outputs": [],
   "source": [
    "names = ['Alice', 'Diane', 'Tom', 'Bob', 'Harry', 'Ross', 'Sonia', 'Amy']\n",
    "\n",
    "found = False\n",
    "i = 0"
   ]
  },
  {
   "cell_type": "code",
   "execution_count": 21,
   "metadata": {},
   "outputs": [
    {
     "name": "stdout",
     "output_type": "stream",
     "text": [
      "checking:  Alice\n",
      "checking:  Diane\n",
      "checking:  Tom\n",
      "checking:  Bob\n",
      "checking:  Harry\n",
      "checking:  Ross\n",
      "checking:  Sonia\n",
      "checking:  Amy\n",
      "Waldo is not in the list\n"
     ]
    }
   ],
   "source": [
    "while i < len(names) and not found:\n",
    "    print('checking: ', names[i])\n",
    "    if names[i] == 'Waldo':\n",
    "        found = True\n",
    "    i += 1\n",
    "    \n",
    "if found:\n",
    "    print('We found Waldo!')\n",
    "else:\n",
    "    print('Waldo is not in the list')"
   ]
  }
 ],
 "metadata": {
  "kernelspec": {
   "display_name": "base",
   "language": "python",
   "name": "python3"
  },
  "language_info": {
   "codemirror_mode": {
    "name": "ipython",
    "version": 3
   },
   "file_extension": ".py",
   "mimetype": "text/x-python",
   "name": "python",
   "nbconvert_exporter": "python",
   "pygments_lexer": "ipython3",
   "version": "3.13.5"
  }
 },
 "nbformat": 4,
 "nbformat_minor": 2
}
