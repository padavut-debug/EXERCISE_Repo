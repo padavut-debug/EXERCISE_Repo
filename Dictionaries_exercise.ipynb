{
 "cells": [
  {
   "cell_type": "markdown",
   "metadata": {},
   "source": [
    "# Dictionaries"
   ]
  },
  {
   "cell_type": "markdown",
   "metadata": {},
   "source": [
    "## Check your understanding!\n",
    "\n",
    "**1 - Dictionary Basics**\n",
    "\n",
    "1. Make a dictionary called `restaurant_types` that has the following associated `key-value` pairs: `('Red Lobster', 'Seafood')`, `('Burger King', 'Fast Food')`, `('Safeway', 'Grocery Store')`.\n",
    "\n",
    "2. How do you find the restaurant type for `'Burger King'`?\n",
    "3. What if you don't know whether or not `'Outback Steakhouse'` is in the `restaurant_types` dictionary - how would you go about trying to get it's restaurant type and make sure that you won't get an error?"
   ]
  },
  {
   "cell_type": "code",
   "execution_count": 4,
   "metadata": {},
   "outputs": [],
   "source": [
    "restaurant_types = {'Red Lobster': 'Seafood', 'Burger King': 'Fast Food', 'Safeway': 'Grocery Store'}"
   ]
  },
  {
   "cell_type": "code",
   "execution_count": 6,
   "metadata": {},
   "outputs": [
    {
     "data": {
      "text/plain": [
       "'Fast Food'"
      ]
     },
     "execution_count": 6,
     "metadata": {},
     "output_type": "execute_result"
    }
   ],
   "source": [
    "restaurant_types['Burger King']"
   ]
  },
  {
   "cell_type": "code",
   "execution_count": 7,
   "metadata": {},
   "outputs": [
    {
     "data": {
      "text/plain": [
       "dict_items([('Red Lobster', 'Seafood'), ('Burger King', 'Fast Food'), ('Safeway', 'Grocery Store')])"
      ]
     },
     "execution_count": 7,
     "metadata": {},
     "output_type": "execute_result"
    }
   ],
   "source": [
    "restaurant_types.items()"
   ]
  },
  {
   "cell_type": "code",
   "execution_count": 8,
   "metadata": {},
   "outputs": [
    {
     "data": {
      "text/plain": [
       "'no such a restaurant in the list'"
      ]
     },
     "execution_count": 8,
     "metadata": {},
     "output_type": "execute_result"
    }
   ],
   "source": [
    "restaurant_types.get('Outback Steakhouse', 'no such a restaurant in the list')"
   ]
  },
  {
   "cell_type": "markdown",
   "metadata": {},
   "source": [
    "**2 - Mutating Dictionaries**\n",
    "\n",
    "1. Using the same resturant type dictionary from the last question set, add to it the key-value pair, `('Outback Steakhouse', 'Delicious!')`.\n",
    "2. What if we want to change the restaurant type of `'Safeway'` to just `'Grocery'` - how would you make that change?\n",
    "3. Considering that we quite like `Outback Steakhouse`, it's reasonable to assume that we don't particularly like `'Burger King'`. Remove the `'Burger King'` entry from the dictionary. There are a couple of ways you can figure out how to do this:\n",
    "    1. Try tab completing on the dictionary and see if there are any methods that look like they could help.\n",
    "    2. Look at the docs for Python dictionaries.\n",
    "    3. Google it."
   ]
  },
  {
   "cell_type": "code",
   "execution_count": 12,
   "metadata": {},
   "outputs": [
    {
     "data": {
      "text/plain": [
       "{'Red Lobster': 'Seafood',\n",
       " 'Burger King': 'Fast Food',\n",
       " 'Safeway': 'Grocery Store',\n",
       " 'Outback Steakhouse': 'Delicuous!'}"
      ]
     },
     "execution_count": 12,
     "metadata": {},
     "output_type": "execute_result"
    }
   ],
   "source": [
    "restaurant_types['Outback Steakhouse'] = 'Delicuous!'\n",
    "restaurant_types"
   ]
  },
  {
   "cell_type": "code",
   "execution_count": 13,
   "metadata": {},
   "outputs": [
    {
     "data": {
      "text/plain": [
       "{'Red Lobster': 'Seafood',\n",
       " 'Burger King': 'Fast Food',\n",
       " 'Safeway': 'Grocery',\n",
       " 'Outback Steakhouse': 'Delicuous!'}"
      ]
     },
     "execution_count": 13,
     "metadata": {},
     "output_type": "execute_result"
    }
   ],
   "source": [
    "restaurant_types['Safeway'] = 'Grocery'\n",
    "restaurant_types"
   ]
  },
  {
   "cell_type": "code",
   "execution_count": 14,
   "metadata": {},
   "outputs": [
    {
     "data": {
      "text/plain": [
       "{'Red Lobster': 'Seafood',\n",
       " 'Safeway': 'Grocery',\n",
       " 'Outback Steakhouse': 'Delicuous!'}"
      ]
     },
     "execution_count": 14,
     "metadata": {},
     "output_type": "execute_result"
    }
   ],
   "source": [
    "del restaurant_types['Burger King']\n",
    "restaurant_types"
   ]
  },
  {
   "cell_type": "code",
   "execution_count": 20,
   "metadata": {},
   "outputs": [
    {
     "data": {
      "text/plain": [
       "{'Red Lobster': 'Seafood',\n",
       " 'Safeway': 'Grocery',\n",
       " 'Outback Steakhouse': 'Delicuous!',\n",
       " 'Burger King': 'Delicous!'}"
      ]
     },
     "execution_count": 20,
     "metadata": {},
     "output_type": "execute_result"
    }
   ],
   "source": [
    "restaurant_types['Burger King'] = 'Delicous!'\n",
    "restaurant_types"
   ]
  },
  {
   "cell_type": "code",
   "execution_count": 21,
   "metadata": {},
   "outputs": [
    {
     "data": {
      "text/plain": [
       "{'Red Lobster': 'Seafood',\n",
       " 'Safeway': 'Grocery',\n",
       " 'Outback Steakhouse': 'Delicuous!'}"
      ]
     },
     "execution_count": 21,
     "metadata": {},
     "output_type": "execute_result"
    }
   ],
   "source": [
    "restaurant_types.pop('Burger King')\n",
    "restaurant_types"
   ]
  },
  {
   "cell_type": "markdown",
   "metadata": {},
   "source": [
    "**3 - Nested Dictionaries**\n",
    "\n",
    "Given is the following dictionary `weather_data`.\n",
    "\n",
    "1. Look at this dictionary and describe in a few words what information is stored here.\n",
    "2. How many keys does it have?\n",
    "3. For each key, list the object-type of the value with `type()`.\n",
    "4. Print the value for the key `wind`. Assign the value to a new variables called `wind_data`.\n",
    "5. Print the following values by accessing data from the dictionary:\n",
    "    - the name of the city\n",
    "    - the lat and lon coordinates\n",
    "    - the weather description\n"
   ]
  },
  {
   "cell_type": "code",
   "execution_count": 22,
   "metadata": {},
   "outputs": [],
   "source": [
    "weather_dictionary = { \"coord\":{\"lon\":10,\n",
    "                                \"lat\":53.55},\n",
    "                        \"weather\":[{\"id\":800,\n",
    "                                    \"main\":\"Clear\",\n",
    "                                    \"description\":\"clear sky\",\n",
    "                                    \"icon\":\"01d\"}],\n",
    "                        \"base\":\"stations\",\n",
    "                        \"main\":{\"temp\":290.32,\n",
    "                                \"feels_like\":290.1,\n",
    "                                \"temp_min\":289.81,\n",
    "                                \"temp_max\":291.05,\n",
    "                                \"pressure\":1005,\n",
    "                                \"humidity\":77},\n",
    "                        \"visibility\":10000,\n",
    "                        \"wind\":{\"speed\":5.14,\n",
    "                                \"deg\":270},\n",
    "                        \"clouds\":{\"all\":0},\n",
    "                        \"dt\":1712655018,\n",
    "                        \"sys\":{\"type\":1,\n",
    "                                \"id\":1263,\n",
    "                                \"country\":\"DE\",\n",
    "                                \"sunrise\":1712637190,\n",
    "                                \"sunset\":1712686163},\n",
    "                        \"timezone\":7200,\n",
    "                        \"id\":2911298,\n",
    "                        \"name\":\"Hamburg\",\n",
    "                        \"cod\":200\n",
    "                    }\n"
   ]
  },
  {
   "cell_type": "code",
   "execution_count": 25,
   "metadata": {},
   "outputs": [
    {
     "name": "stdout",
     "output_type": "stream",
     "text": [
      "coord - {'lon': 10, 'lat': 53.55}\n",
      "weather - [{'id': 800, 'main': 'Clear', 'description': 'clear sky', 'icon': '01d'}]\n",
      "base - stations\n",
      "main - {'temp': 290.32, 'feels_like': 290.1, 'temp_min': 289.81, 'temp_max': 291.05, 'pressure': 1005, 'humidity': 77}\n",
      "visibility - 10000\n",
      "wind - {'speed': 5.14, 'deg': 270}\n",
      "clouds - {'all': 0}\n",
      "dt - 1712655018\n",
      "sys - {'type': 1, 'id': 1263, 'country': 'DE', 'sunrise': 1712637190, 'sunset': 1712686163}\n",
      "timezone - 7200\n",
      "id - 2911298\n",
      "name - Hamburg\n",
      "cod - 200\n"
     ]
    }
   ],
   "source": [
    " for item in weather_dictionary:\n",
    "    print(item, \"-\", weather_dictionary[item])"
   ]
  },
  {
   "cell_type": "code",
   "execution_count": 26,
   "metadata": {},
   "outputs": [
    {
     "data": {
      "text/plain": [
       "dict_keys(['coord', 'weather', 'base', 'main', 'visibility', 'wind', 'clouds', 'dt', 'sys', 'timezone', 'id', 'name', 'cod'])"
      ]
     },
     "execution_count": 26,
     "metadata": {},
     "output_type": "execute_result"
    }
   ],
   "source": [
    "weather_dictionary.keys()"
   ]
  },
  {
   "cell_type": "code",
   "execution_count": 38,
   "metadata": {},
   "outputs": [
    {
     "name": "stdout",
     "output_type": "stream",
     "text": [
      "coord -> <class 'dict'>\n",
      "weather -> <class 'list'>\n",
      "base -> <class 'str'>\n",
      "main -> <class 'dict'>\n",
      "visibility -> <class 'int'>\n",
      "wind -> <class 'dict'>\n",
      "dt -> <class 'int'>\n",
      "sys -> <class 'dict'>\n",
      "timezone -> <class 'int'>\n",
      "id -> <class 'int'>\n",
      "name -> <class 'str'>\n",
      "cod -> <class 'int'>\n"
     ]
    }
   ],
   "source": [
    "print('coord ->', type(weather_dictionary['coord']))\n",
    "print('weather ->', type(weather_dictionary['weather']))\n",
    "print('base ->', type(weather_dictionary['base']))\n",
    "print('main ->', type(weather_dictionary['main']))\n",
    "print('visibility ->', type(weather_dictionary['visibility']))\n",
    "print('wind ->', type(weather_dictionary['wind']))\n",
    "print('dt ->', type(weather_dictionary['dt']))\n",
    "print('sys ->', type(weather_dictionary['sys']))\n",
    "print('timezone ->', type(weather_dictionary['timezone']))\n",
    "print('id ->', type(weather_dictionary['id']))\n",
    "print('name ->', type(weather_dictionary['name']))\n",
    "print('cod ->', type(weather_dictionary['cod']))"
   ]
  },
  {
   "cell_type": "code",
   "execution_count": 27,
   "metadata": {},
   "outputs": [
    {
     "name": "stdout",
     "output_type": "stream",
     "text": [
      "{'speed': 5.14, 'deg': 270}\n"
     ]
    }
   ],
   "source": [
    " wind_data = weather_dictionary['wind']\n",
    " print(wind_data)"
   ]
  },
  {
   "cell_type": "code",
   "execution_count": 30,
   "metadata": {},
   "outputs": [
    {
     "data": {
      "text/plain": [
       "'Hamburg'"
      ]
     },
     "execution_count": 30,
     "metadata": {},
     "output_type": "execute_result"
    }
   ],
   "source": [
    "weather_dictionary['name']\n",
    "\n"
   ]
  },
  {
   "cell_type": "code",
   "execution_count": 32,
   "metadata": {},
   "outputs": [
    {
     "name": "stdout",
     "output_type": "stream",
     "text": [
      "10\n"
     ]
    }
   ],
   "source": [
    "print(weather_dictionary['coord']['lon'])"
   ]
  },
  {
   "cell_type": "code",
   "execution_count": 33,
   "metadata": {},
   "outputs": [
    {
     "name": "stdout",
     "output_type": "stream",
     "text": [
      "53.55\n"
     ]
    }
   ],
   "source": [
    "print(weather_dictionary['coord']['lat'])\n"
   ]
  },
  {
   "cell_type": "code",
   "execution_count": 39,
   "metadata": {},
   "outputs": [
    {
     "name": "stdout",
     "output_type": "stream",
     "text": [
      "clear sky\n"
     ]
    }
   ],
   "source": [
    "weather_description = weather_dictionary['weather'][0]['description']\n",
    "print(weather_description)"
   ]
  },
  {
   "cell_type": "markdown",
   "metadata": {},
   "source": [
    "**4 - Dictionary for storing data and make efficient calculations**"
   ]
  },
  {
   "cell_type": "markdown",
   "metadata": {},
   "source": [
    "This is an expansion of the exercise nr. 3 of the list exercises. Same situation, we want to\n",
    "use this cool 'input'-function:\n",
    "```python\n",
    "user_name = input(\"Enter your name: \")\n",
    "greeting = \"Hello, \" + user_name + \"!\"\n",
    "print(greeting)\n",
    "```\n",
    "\n",
    "We'll take our ideas from exercise nr. 4 of the list exercises and expand on it the following way:\n",
    "- Write a program that asks the user 3 questions:\n",
    "    - their name,\n",
    "    - the date of today\n",
    "    - their daily hours of work of this day,\n",
    "    - their money spent on lunch at this day.\n",
    "- This time think about a dictionary structure to store all values that are entered. What makes sense to store as key and what as values? \n",
    "*hint:* name should be definetly a key.\n",
    "- Then, write a for-loop that loops through all keys and calculates the sum of all daily hours worked so far and the average lunch expenses.\n",
    "- Print out the result to us in a nicely formatted way. \n",
    "(If you want to be really pythonic, try to use string formatting with the format-method and f-strings.)\n",
    "\n",
    "Optional task:\n",
    "- add a feature that let's the user tell you to delete a certain element if it was wrong.\n",
    "- we will not describe possible steps for this in more detail, try to come up with a step-by-step solution yourself :-) "
   ]
  },
  {
   "cell_type": "markdown",
   "metadata": {},
   "source": [
    "\n",
    "<details><summary>\n",
    "Click here for a hint…\n",
    "</summary>\n",
    "you could design your dictionary the following way:\n",
    "user_dict = {'Alex': {'2023-10-12': 7.0,\n",
    "                      '2023-10-13': 10.0},\n",
    "            'Param': {'2023-10-11': 8.0}}\n",
    "</details>\n"
   ]
  },
  {
   "cell_type": "code",
   "execution_count": 47,
   "metadata": {},
   "outputs": [
    {
     "name": "stdout",
     "output_type": "stream",
     "text": [
      "mina\n",
      "20.10.2025\n",
      "7.5\n",
      "50.2\n",
      "{'date': '20.10.2025', 'hours_worked': 7.5, 'lunch_expense': 50.2}\n",
      "{'mina': {'date': '20.10.2025', 'hours_worked': 7.5, 'lunch_expense': 50.2}}\n",
      "hours worked by mina : 7.5\n",
      "lunch_expense by mina : 50.2\n"
     ]
    }
   ],
   "source": [
    "all_users = {}\n",
    "\n",
    "name = input('enter your name: ')\n",
    "date_of_today = input('enter the date of today: ')\n",
    "hours_of_work_today = input('enter the hours_of_today work: ')\n",
    "money_on_lunch = input('enter your money spent on lunch: ')\n",
    "print(name)\n",
    "print(date_of_today)\n",
    "print(hours_of_work_today)\n",
    "print(money_on_lunch)\n",
    "\n",
    "hours_of_work_today = float(hours_of_work_today)\n",
    "money_on_lunch = float(money_on_lunch)\n",
    "\n",
    "user_data = {'date': date_of_today, 'hours_worked': hours_of_work_today, 'lunch_expense': money_on_lunch}\n",
    "print(user_data)\n",
    "\n",
    "\n",
    "all_users[name] = user_data\n",
    "print(all_users)\n",
    "\n",
    "print('hours worked by', name, \":\", all_users[name]['hours_worked'])\n",
    "print('lunch_expense by', name, \":\", all_users[name]['lunch_expense'])"
   ]
  },
  {
   "cell_type": "code",
   "execution_count": null,
   "metadata": {},
   "outputs": [],
   "source": []
  },
  {
   "cell_type": "code",
   "execution_count": 56,
   "metadata": {},
   "outputs": [
    {
     "name": "stdout",
     "output_type": "stream",
     "text": [
      "[{'participant': 'david', 'date': '23.10.2025', 'hours_worked': 7.0, 'lunch_expense': 40.5}, {'participant': 'Thomas', 'date': '20.10.2025', 'hours_worked': 8.0, 'lunch_expense': 60.78}, {'participant': 'Frank', 'date': '19.10.2025', 'hours_worked': 6.0, 'lunch_expense': 90.5}, {'participant': 'Bobchen', 'date': '21.10.2025', 'hours_worked': 3.0, 'lunch_expense': 15.0}, {'participant': 'Mina', 'date': '23.10.2025', 'hours_worked': 5.0, 'lunch_expense': 70.0}]\n",
      "Total hours of worked by all participants: 29.0\n",
      "Average lunch expense: 55.36\n"
     ]
    }
   ],
   "source": [
    "all_users = []\n",
    "\n",
    "for _ in range(5):\n",
    "    name = input('enter your name: ')\n",
    "    date_of_today = input('enter the date of today: ')\n",
    "    hours_of_work_today = input('enter the hours_of_today work: ')\n",
    "    money_on_lunch = input('enter your money spent on lunch: ') \n",
    "    \n",
    "    hours_of_work_today = float(hours_of_work_today)\n",
    "    money_on_lunch = float(money_on_lunch)\n",
    "\n",
    "    user_data = {'participant': name, 'date': date_of_today, 'hours_worked': hours_of_work_today, 'lunch_expense': money_on_lunch}\n",
    "\n",
    "    all_users.append(user_data)\n",
    "\n",
    "print(all_users)\n",
    "\n",
    "total_hours = 0\n",
    "total_lunch = 0\n",
    "\n",
    "for user in all_users:\n",
    "    total_hours += user['hours_worked']\n",
    "    total_lunch += user['lunch_expense']\n",
    "    \n",
    "average_lunch = total_lunch / len(all_users)\n",
    "\n",
    "print(f'Total hours of worked by all participants: {total_hours}')\n",
    "print(f'Average lunch expense: {average_lunch:.2f}')"
   ]
  },
  {
   "cell_type": "code",
   "execution_count": null,
   "metadata": {},
   "outputs": [],
   "source": []
  }
 ],
 "metadata": {
  "kernelspec": {
   "display_name": "base",
   "language": "python",
   "name": "python3"
  },
  "language_info": {
   "codemirror_mode": {
    "name": "ipython",
    "version": 3
   },
   "file_extension": ".py",
   "mimetype": "text/x-python",
   "name": "python",
   "nbconvert_exporter": "python",
   "pygments_lexer": "ipython3",
   "version": "3.13.5"
  }
 },
 "nbformat": 4,
 "nbformat_minor": 4
}
