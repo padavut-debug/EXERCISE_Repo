{
 "cells": [
  {
   "cell_type": "markdown",
   "metadata": {},
   "source": [
    "## Check your understanding!"
   ]
  },
  {
   "cell_type": "markdown",
   "metadata": {},
   "source": [
    "### 1. Create Lists"
   ]
  },
  {
   "cell_type": "markdown",
   "metadata": {},
   "source": [
    "1.1 Construct a list with 5 integers in it."
   ]
  },
  {
   "cell_type": "code",
   "execution_count": 4,
   "metadata": {},
   "outputs": [],
   "source": [
    "numbers = [1, 2, 3, 4, 5]"
   ]
  },
  {
   "cell_type": "markdown",
   "metadata": {},
   "source": [
    "1.2. Construct a list of 5 floats in it."
   ]
  },
  {
   "cell_type": "code",
   "execution_count": 5,
   "metadata": {},
   "outputs": [],
   "source": [
    "numbers_float = [1.2 ,2.4 ,3.6 , 4.8, 5.10]"
   ]
  },
  {
   "cell_type": "markdown",
   "metadata": {},
   "source": [
    "1.3. Construct a list with only strings in it."
   ]
  },
  {
   "cell_type": "code",
   "execution_count": 10,
   "metadata": {},
   "outputs": [],
   "source": [
    "my_strings = ['fish', 'dog', 'bird', 'bear', 'panda']"
   ]
  },
  {
   "cell_type": "markdown",
   "metadata": {},
   "source": [
    "1.4 Construct a list that contains at least one integer, one floating point number, and one string."
   ]
  },
  {
   "cell_type": "code",
   "execution_count": 25,
   "metadata": {},
   "outputs": [],
   "source": [
    "a_list_with_mixed = [1, 'apple', 2.5]"
   ]
  },
  {
   "cell_type": "markdown",
   "metadata": {},
   "source": [
    "1.5 Construct* a list that contains a list of integers, a list of floating point numbers, and a list of strings?  \n",
    "<p style=\"margin-left: 20px;\"><font size=2>* If you saved the lists from questions 1.1-1.3 into their own variables then you can do this in more than one way.</font></p>"
   ]
  },
  {
   "cell_type": "code",
   "execution_count": 17,
   "metadata": {},
   "outputs": [
    {
     "name": "stdout",
     "output_type": "stream",
     "text": [
      "[1, 2, 3, 4, 5, 1.2, 2.4, 3.6, 4.8, 5.1, 'fish', 'dog', 'bird', 'bear', 'panda']\n"
     ]
    }
   ],
   "source": [
    "my_mix_list = numbers + numbers_float + my_strings\n",
    "print(my_mix_list)"
   ]
  },
  {
   "cell_type": "markdown",
   "metadata": {},
   "source": [
    "### 2. List Indexing\n",
    "\n",
    "Assume that we are working with this list: [3, 7, 12, 15, 22]. "
   ]
  },
  {
   "cell_type": "markdown",
   "metadata": {},
   "source": [
    "2.1 How would we index into the list to grab the number 7? What about the number 15?"
   ]
  },
  {
   "cell_type": "code",
   "execution_count": 32,
   "metadata": {},
   "outputs": [
    {
     "data": {
      "text/plain": [
       "15"
      ]
     },
     "execution_count": 32,
     "metadata": {},
     "output_type": "execute_result"
    }
   ],
   "source": [
    "x = [3, 7, 12, 15, 22]\n",
    "x[1]\n",
    "x[3]"
   ]
  },
  {
   "cell_type": "markdown",
   "metadata": {},
   "source": [
    "2.2 Using negative indexing, how would we index into the list to grab the number 12?"
   ]
  },
  {
   "cell_type": "code",
   "execution_count": 29,
   "metadata": {},
   "outputs": [
    {
     "data": {
      "text/plain": [
       "12"
      ]
     },
     "execution_count": 29,
     "metadata": {},
     "output_type": "execute_result"
    }
   ],
   "source": [
    "x[-3]"
   ]
  },
  {
   "cell_type": "markdown",
   "metadata": {},
   "source": [
    "2.3. How would I use interval indexing to grab 7 and 15 from the list?"
   ]
  },
  {
   "cell_type": "code",
   "execution_count": 35,
   "metadata": {},
   "outputs": [
    {
     "data": {
      "text/plain": [
       "[7, 15]"
      ]
     },
     "execution_count": 35,
     "metadata": {},
     "output_type": "execute_result"
    }
   ],
   "source": [
    "x[1:4:2]"
   ]
  },
  {
   "cell_type": "markdown",
   "metadata": {},
   "source": [
    "### 3. List Methods"
   ]
  },
  {
   "cell_type": "markdown",
   "metadata": {},
   "source": [
    "3.1. Construct a list of the even numbers from 0 to 10."
   ]
  },
  {
   "cell_type": "code",
   "execution_count": 36,
   "metadata": {},
   "outputs": [
    {
     "data": {
      "text/plain": [
       "[0, 2, 4, 6, 8, 10]"
      ]
     },
     "execution_count": 36,
     "metadata": {},
     "output_type": "execute_result"
    }
   ],
   "source": [
    "numbers = [0, 1, 2, 3, 4, 5, 6, 7, 8, 9, 10]\n",
    "even_numbers = numbers[::2]\n",
    "even_numbers"
   ]
  },
  {
   "cell_type": "markdown",
   "metadata": {},
   "source": [
    "3.2. Add (with a method) the number 12 to the previous list."
   ]
  },
  {
   "cell_type": "code",
   "execution_count": null,
   "metadata": {},
   "outputs": [
    {
     "data": {
      "text/plain": [
       "[0, 1, 2, 3, 4, 5, 6, 7, 8, 9, 10, 12, 12, 12, 12, 12]"
      ]
     },
     "execution_count": 49,
     "metadata": {},
     "output_type": "execute_result"
    }
   ],
   "source": [
    "numbers.append(12)\n",
    "numbers["
   ]
  },
  {
   "cell_type": "markdown",
   "metadata": {},
   "source": [
    "3.3. Use a method on the list to put the numbers in descending order (12 down to 0)."
   ]
  },
  {
   "cell_type": "code",
   "execution_count": 50,
   "metadata": {},
   "outputs": [
    {
     "name": "stdout",
     "output_type": "stream",
     "text": [
      "[12, 12, 12, 12, 12, 10, 9, 8, 7, 6, 5, 4, 3, 2, 1, 0]\n"
     ]
    }
   ],
   "source": [
    "numbers.sort(reverse=True)\n",
    "print(numbers)"
   ]
  },
  {
   "cell_type": "markdown",
   "metadata": {},
   "source": [
    "3.4. Call .count(12) on your list. Given what it returns and the name of the method itself, can you take a guess at what this method does?"
   ]
  },
  {
   "cell_type": "code",
   "execution_count": 54,
   "metadata": {},
   "outputs": [
    {
     "data": {
      "text/plain": [
       "5"
      ]
     },
     "execution_count": 54,
     "metadata": {},
     "output_type": "execute_result"
    }
   ],
   "source": [
    "numbers.count(12)\n"
   ]
  },
  {
   "cell_type": "markdown",
   "metadata": {},
   "source": [
    "3.5. Add (with a method) the number 12 to the list again."
   ]
  },
  {
   "cell_type": "code",
   "execution_count": 55,
   "metadata": {},
   "outputs": [],
   "source": [
    "numbers.append(12)"
   ]
  },
  {
   "cell_type": "markdown",
   "metadata": {},
   "source": [
    "3.6. Call .count(12) on your list again. Did you get the intended result?"
   ]
  },
  {
   "cell_type": "code",
   "execution_count": 57,
   "metadata": {},
   "outputs": [
    {
     "data": {
      "text/plain": [
       "6"
      ]
     },
     "execution_count": 57,
     "metadata": {},
     "output_type": "execute_result"
    }
   ],
   "source": [
    "numbers.count(12)"
   ]
  },
  {
   "cell_type": "markdown",
   "metadata": {},
   "source": [
    "3.7. Use a method on the list to put the numbers in asscending order (from 0 to 12)."
   ]
  },
  {
   "cell_type": "code",
   "execution_count": 67,
   "metadata": {},
   "outputs": [
    {
     "name": "stdout",
     "output_type": "stream",
     "text": [
      "[0, 1, 2, 3, 4, 5, 6, 7, 8, 9, 10, 12]\n"
     ]
    }
   ],
   "source": [
    "numbers.sort()\n",
    "print(numbers)"
   ]
  },
  {
   "cell_type": "markdown",
   "metadata": {},
   "source": [
    "3.8. Remove the last item from the list."
   ]
  },
  {
   "cell_type": "code",
   "execution_count": 68,
   "metadata": {},
   "outputs": [
    {
     "name": "stdout",
     "output_type": "stream",
     "text": [
      "[0, 1, 2, 3, 4, 5, 6, 7, 8, 9, 10]\n"
     ]
    }
   ],
   "source": [
    "numbers.pop()\n",
    "print(numbers)"
   ]
  },
  {
   "cell_type": "markdown",
   "metadata": {},
   "source": [
    "3.9. How many items are now in your list? (you can check if your right with len(my_list))"
   ]
  },
  {
   "cell_type": "code",
   "execution_count": 69,
   "metadata": {},
   "outputs": [
    {
     "data": {
      "text/plain": [
       "11"
      ]
     },
     "execution_count": 69,
     "metadata": {},
     "output_type": "execute_result"
    }
   ],
   "source": [
    "len(numbers)"
   ]
  },
  {
   "cell_type": "markdown",
   "metadata": {},
   "source": [
    "### 4. List for storing data and make efficient calculations"
   ]
  },
  {
   "cell_type": "markdown",
   "metadata": {},
   "source": [
    "Remember this cool feature with 'input'-function, where you can ask for user input:\n",
    "```python\n",
    "user_name = input(\"Enter your name: \")\n",
    "greeting = \"Hello, \" + user_name + \"!\"\n",
    "print(greeting)\n",
    "```"
   ]
  },
  {
   "cell_type": "markdown",
   "metadata": {},
   "source": [
    "*Task:* \n",
    "\n",
    "- Write a program that asks the user for their daily hours of work and for their money spent on lunch. \n",
    "- Store all values that are entered in both user-interfaces in two lists, one should be called `daily_hours` and the other one `lunch_expenses`.\n",
    "- Then, calculate the sum of all daily hours worked so far and the average lunch expenses.\n",
    "- Print out the result to us in a nicely formatted way. \n",
    "(If you want to be really pythonic, try to use string formatting with the format-method and f-strings.)"
   ]
  },
  {
   "cell_type": "markdown",
   "metadata": {},
   "source": [
    "*Optional task:*\n",
    "- add a feature that let's the user tell you to delete a certain element if it was wrong.\n",
    "- we will not describe possible steps for this in more detail, try to come up with a step-by-step solution yourself :-) "
   ]
  },
  {
   "cell_type": "code",
   "execution_count": 77,
   "metadata": {},
   "outputs": [
    {
     "name": "stdout",
     "output_type": "stream",
     "text": [
      "Hours worked on day 1: 5.0, Lunch: 40.0\n",
      "Hours worked on day 2: 6.0, Lunch: 20.0\n",
      "Hours worked on day 3: 7.0, Lunch: 80.0\n",
      "Hours worked on day 4: 5.0, Lunch: 50.0\n",
      "Hours worked on day 5: 8.0, Lunch: 40.0\n",
      "Hours worked on day 6: 6.0, Lunch: 50.0\n",
      "Hours worked on day 7: 8.0, Lunch: 20.0\n",
      "\n",
      "Total hours worked: 45.0\n",
      "Average lunch expense: 42.8571\n"
     ]
    }
   ],
   "source": [
    "daily_hours = []\n",
    "lunch_expenses = []\n",
    "\n",
    "hours1 = float(input(\"Enter hours worked on day 1: \"))\n",
    "lunch1 = float(input(\"Enter lunch expense on day 1: \"))\n",
    "hours2 = float(input(\"Enter hours worked on day 2: \"))\n",
    "lunch2 = float(input(\"Enter lunch expense on day 2: \"))\n",
    "hours3 = float(input(\"Enter hours worked on day 3: \"))\n",
    "lunch3 = float(input(\"Enter lunch expense on day 3: \"))\n",
    "hours4 = float(input(\"Enter hours worked on day 4: \"))\n",
    "lunch4 = float(input(\"Enter lunch expense on day 4: \"))\n",
    "hours5 = float(input(\"Enter hours worked on day 5: \"))\n",
    "lunch5 = float(input(\"Enter lunch expense on day 5: \"))\n",
    "hours6 = float(input(\"Enter hours worked on day 6: \"))\n",
    "lunch6 = float(input(\"Enter lunch expense on day 6: \"))\n",
    "hours7 = float(input(\"Enter hours worked on day 7: \"))\n",
    "lunch7 = float(input(\"Enter lunch expense on day 7: \"))\n",
    "\n",
    "daily_hours.extend([hours1, hours2, hours3, hours4, hours5, hours6, hours7])\n",
    "lunch_expenses.extend([lunch1, lunch2, lunch3, lunch4, lunch5, lunch6, lunch7])\n",
    "\n",
    "total_hours = sum(daily_hours)\n",
    "average_lunch = sum(lunch_expenses) / len(lunch_expenses)\n",
    "\n",
    "print(f\"Hours worked on day 1: {hours1}, Lunch: {lunch1}\")\n",
    "print(f\"Hours worked on day 2: {hours2}, Lunch: {lunch2}\")\n",
    "print(f\"Hours worked on day 3: {hours3}, Lunch: {lunch3}\")\n",
    "print(f\"Hours worked on day 4: {hours4}, Lunch: {lunch4}\")\n",
    "print(f\"Hours worked on day 5: {hours5}, Lunch: {lunch5}\")\n",
    "print(f\"Hours worked on day 6: {hours6}, Lunch: {lunch6}\")\n",
    "print(f\"Hours worked on day 7: {hours7}, Lunch: {lunch7}\")\n",
    "\n",
    "print(f\"\\nTotal hours worked: {total_hours}\")\n",
    "print(f\"Average lunch expense: {average_lunch:.4f}\")\n",
    "\n",
    "\n"
   ]
  },
  {
   "cell_type": "markdown",
   "metadata": {},
   "source": [
    "<details><summary>\n",
    "Click <b>here</b> for a hint…\n",
    "</summary>\n",
    "A pythonic way to define the two is to first define an empty list with `=[]` and then keep filling that list throughout your program with `.append()`. \n",
    "</details>\n"
   ]
  }
 ],
 "metadata": {
  "kernelspec": {
   "display_name": "base",
   "language": "python",
   "name": "python3"
  },
  "language_info": {
   "codemirror_mode": {
    "name": "ipython",
    "version": 3
   },
   "file_extension": ".py",
   "mimetype": "text/x-python",
   "name": "python",
   "nbconvert_exporter": "python",
   "pygments_lexer": "ipython3",
   "version": "3.13.5"
  }
 },
 "nbformat": 4,
 "nbformat_minor": 2
}
