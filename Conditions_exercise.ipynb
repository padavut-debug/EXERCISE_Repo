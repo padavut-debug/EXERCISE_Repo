{
 "cells": [
  {
   "cell_type": "markdown",
   "metadata": {},
   "source": [
    "# Check your understanding"
   ]
  },
  {
   "cell_type": "markdown",
   "metadata": {},
   "source": [
    "### 1. `if` Questions"
   ]
  },
  {
   "cell_type": "markdown",
   "metadata": {},
   "source": [
    "1.1 Write an `if` statement to check if a number is smaller than 100."
   ]
  },
  {
   "cell_type": "code",
   "execution_count": 62,
   "metadata": {},
   "outputs": [
    {
     "name": "stdout",
     "output_type": "stream",
     "text": [
      "99\n"
     ]
    }
   ],
   "source": [
    "number = int(input('enter the number: '))\n",
    "if number < 100:\n",
    "    print(number)"
   ]
  },
  {
   "cell_type": "code",
   "execution_count": 9,
   "metadata": {},
   "outputs": [
    {
     "name": "stdout",
     "output_type": "stream",
     "text": [
      "5\n"
     ]
    }
   ],
   "source": [
    "x = 5\n",
    "if x < 100:\n",
    "    print(x)"
   ]
  },
  {
   "cell_type": "code",
   "execution_count": null,
   "metadata": {},
   "outputs": [],
   "source": [
    "# write your solution here"
   ]
  },
  {
   "cell_type": "markdown",
   "metadata": {},
   "source": [
    "1.2. Write some code that accepts a user inputted number. It checks to see if that number is positive, and if it is it adds 50 to the number. Then print the number."
   ]
  },
  {
   "cell_type": "code",
   "execution_count": 6,
   "metadata": {},
   "outputs": [],
   "source": [
    "number = int(input('enter the number: '))\n",
    "if number > 0:\n",
    "    number += 50\n",
    "    print(number)"
   ]
  },
  {
   "cell_type": "code",
   "execution_count": null,
   "metadata": {},
   "outputs": [],
   "source": [
    "# write your solution here"
   ]
  },
  {
   "cell_type": "code",
   "execution_count": null,
   "metadata": {},
   "outputs": [],
   "source": []
  },
  {
   "cell_type": "markdown",
   "metadata": {},
   "source": [
    "### 2. `if, elif, else` Questions"
   ]
  },
  {
   "cell_type": "code",
   "execution_count": null,
   "metadata": {},
   "outputs": [],
   "source": []
  },
  {
   "cell_type": "markdown",
   "metadata": {},
   "source": [
    "2.1 Write an `if`-`elif`-`else` statement that does the following: \n",
    "\n",
    " * Prints \"This is a single digit number.\" if `x` is a single digit number\n",
    " * Prints \"This is a double digit number.\" if `x` is a double digit number \n",
    " * Prints \"This is a big number.\" otherwise."
   ]
  },
  {
   "cell_type": "code",
   "execution_count": 15,
   "metadata": {},
   "outputs": [
    {
     "name": "stdout",
     "output_type": "stream",
     "text": [
      "this is aa single digit\n"
     ]
    }
   ],
   "source": [
    "number = int(input('enter the number: '))\n",
    "if number <= 9:\n",
    "    print('this is aa single digit')\n",
    "elif number <= 99:\n",
    "    print('this is a double digit number')\n",
    "else:\n",
    "    print('this is a big number')"
   ]
  },
  {
   "cell_type": "code",
   "execution_count": null,
   "metadata": {},
   "outputs": [],
   "source": [
    "# write your solution here"
   ]
  },
  {
   "cell_type": "markdown",
   "metadata": {},
   "source": [
    "### 3. `and`, `or`, `not` Questions"
   ]
  },
  {
   "cell_type": "markdown",
   "metadata": {},
   "source": [
    "3.1 Write the condition in Python in a single statement: if x is between 20 and 30 print x."
   ]
  },
  {
   "cell_type": "code",
   "execution_count": 18,
   "metadata": {},
   "outputs": [],
   "source": [
    "number = int(input('enter the number: '))\n",
    "if number >= 20 and number <= 30:\n",
    "    print(number)"
   ]
  },
  {
   "cell_type": "code",
   "execution_count": null,
   "metadata": {},
   "outputs": [],
   "source": [
    "# write your solution here"
   ]
  },
  {
   "cell_type": "markdown",
   "metadata": {},
   "source": [
    "3.2 Write the following condition in two ways using Python: if x is greater than 10 print x."
   ]
  },
  {
   "cell_type": "code",
   "execution_count": 20,
   "metadata": {},
   "outputs": [],
   "source": [
    "number = int(input('enter the number: '))\n",
    "if number <= 11:\n",
    "    if number > 10:\n",
    "        print(number)"
   ]
  },
  {
   "cell_type": "code",
   "execution_count": null,
   "metadata": {},
   "outputs": [],
   "source": [
    "# write your solution here"
   ]
  },
  {
   "cell_type": "markdown",
   "metadata": {},
   "source": [
    "3.3 Write the following condition in Python: if x isn't a positive number print x."
   ]
  },
  {
   "cell_type": "code",
   "execution_count": 25,
   "metadata": {},
   "outputs": [
    {
     "name": "stdout",
     "output_type": "stream",
     "text": [
      "-4\n"
     ]
    }
   ],
   "source": [
    "number = int(input('enter the number: '))\n",
    "if number < 0:\n",
    "    print(number)\n",
    "    \n"
   ]
  },
  {
   "cell_type": "code",
   "execution_count": null,
   "metadata": {},
   "outputs": [],
   "source": [
    "# write your solution here"
   ]
  },
  {
   "cell_type": "markdown",
   "metadata": {},
   "source": [
    "3.4 Write the following condition in Python: if x is between 1 and 50 except the numbers between 25 to 30 print x."
   ]
  },
  {
   "cell_type": "code",
   "execution_count": 35,
   "metadata": {},
   "outputs": [
    {
     "name": "stdout",
     "output_type": "stream",
     "text": [
      "45\n"
     ]
    }
   ],
   "source": [
    "number = int(input('enter the number: '))\n",
    "if number >= 1 and number <= 50 and number != 25 and number != 26 and number != 27 and number != 28 and number != 29 and number != 30:\n",
    "    print(number)"
   ]
  },
  {
   "cell_type": "code",
   "execution_count": null,
   "metadata": {},
   "outputs": [],
   "source": [
    "# write your solution here"
   ]
  },
  {
   "cell_type": "markdown",
   "metadata": {},
   "source": [
    "### 4. Clean customer names"
   ]
  },
  {
   "cell_type": "markdown",
   "metadata": {},
   "source": [
    "In this exercise you have given four customer names assigned to four variables  \n",
    "`customer_name_1`, `customer_name_2`, `customer_name_3`, `customer_name_4`   \n",
    "\n",
    "For our data analysis we need only the actual customer names. \n",
    "\n",
    "Please check if the company name ends with 'Company GmbH'. If yes, then remove 'Company GmbH' (which string method could you use for that?), otherwise just leave the customer_name untouched. In both cases assign the output of your if condition to a new variable called `customer_name_extracted_1` or `_2` or `_3` or `_4`. "
   ]
  },
  {
   "cell_type": "code",
   "execution_count": 65,
   "metadata": {},
   "outputs": [
    {
     "name": "stdout",
     "output_type": "stream",
     "text": [
      "Picaflor\n",
      "Behrmann\n",
      "Atlas Companyservice\n",
      "McRae\n"
     ]
    }
   ],
   "source": [
    "customer_name_1 = 'Picaflor Company GmbH'\n",
    "customer_name_2 = 'Behrmann Company GmbH'\n",
    "customer_name_3 = 'Atlas Companyservice'\n",
    "customer_name_4 = 'McRae'\n",
    "\n",
    "if customer_name_1[-len('Company GmbH'):] == 'Company GmbH':\n",
    "    customer_name_extracted_1 = customer_name_1[:- len('Company GmbH')].strip()\n",
    "else:\n",
    "    customer_name_extracted_1 = customer_name_1\n",
    "print(customer_name_extracted_1)\n",
    "    \n",
    "if customer_name_2[-len('Company GmbH'):] == 'Company GmbH':\n",
    "    customer_name_extracted_2 = customer_name_2[:-len('Company GmbH')].strip()\n",
    "else:\n",
    "    customer_name_extracted_2 = customer_name_2\n",
    "print(customer_name_extracted_2)\n",
    "\n",
    "if customer_name_3[-len('Company GmbH'):] == 'Company GmbH':\n",
    "    customer_name_extracted_3 = customer_name_3[:- len('Company GmbH')].strip()\n",
    "else:\n",
    "    customer_name_extracted_3 = customer_name_3\n",
    "print(customer_name_extracted_3)\n",
    "    \n",
    "if customer_name_4[-len('Company GmbH'):] == 'Company GmbH':\n",
    "    customer_name_extracted_4 = customer_name_4[:-len('Company GmbH')].strip()\n",
    "else:\n",
    "    customer_name_extracted_4 = customer_name_4\n",
    "print(customer_name_extracted_4)\n",
    "   \n",
    "    \n",
    " \n",
    "    \n"
   ]
  },
  {
   "cell_type": "code",
   "execution_count": 66,
   "metadata": {},
   "outputs": [
    {
     "name": "stdout",
     "output_type": "stream",
     "text": [
      "Picaflor  Picaflor Company GmbH\n",
      "Behrmann  Behrmann Company GmbH\n",
      "Atlas Companyservice Atlas Companyservice\n",
      "McRae McRae\n"
     ]
    }
   ],
   "source": [
    "customer_name_extracted_1 = customer_name_1\n",
    "if customer_name_1[-12:]==\"Company GmbH\":\n",
    "    customer_name_extracted_1 = customer_name_1[0:-12]\n",
    "else:\n",
    "    customer_name_extracted_1 = customer_name_1\n",
    "print (customer_name_extracted_1, customer_name_1)\n",
    "\n",
    "customer_name_extracted_2 = customer_name_2\n",
    "if customer_name_2[-12:]==\"Company GmbH\":\n",
    "    customer_name_extracted_2 = customer_name_2[0:-12]\n",
    "else:\n",
    "    customer_name_extracted_2 = customer_name_1\n",
    "print (customer_name_extracted_2, customer_name_2)\n",
    "\n",
    "customer_name_extracted_3 = customer_name_3\n",
    "if customer_name_3[-12:]==\"Company GmbH\":\n",
    "    customer_name_extracted_3 = customer_name_3[0:-12]\n",
    "else:\n",
    "    customer_name_extracted_3 = customer_name_3\n",
    "print (customer_name_extracted_3, customer_name_3)\n",
    "\n",
    "customer_name_extracted_4 = customer_name_4\n",
    "if customer_name_4[-12:]==\"Company GmbH\":\n",
    "    customer_name_extracted_4 = customer_name_4[0:-12]\n",
    "else:\n",
    "    customer_name_extracted_4 = customer_name_4\n",
    "print (customer_name_extracted_4, customer_name_4)"
   ]
  },
  {
   "cell_type": "code",
   "execution_count": null,
   "metadata": {},
   "outputs": [],
   "source": []
  },
  {
   "cell_type": "code",
   "execution_count": null,
   "metadata": {},
   "outputs": [],
   "source": [
    "# write your solution here\n"
   ]
  }
 ],
 "metadata": {
  "kernelspec": {
   "display_name": "base",
   "language": "python",
   "name": "python3"
  },
  "language_info": {
   "codemirror_mode": {
    "name": "ipython",
    "version": 3
   },
   "file_extension": ".py",
   "mimetype": "text/x-python",
   "name": "python",
   "nbconvert_exporter": "python",
   "pygments_lexer": "ipython3",
   "version": "3.13.5"
  }
 },
 "nbformat": 4,
 "nbformat_minor": 2
}
