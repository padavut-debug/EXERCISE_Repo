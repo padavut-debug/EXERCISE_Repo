{
 "cells": [
  {
   "cell_type": "markdown",
   "metadata": {},
   "source": [
    "### --- FOR LOOP EXERCISES ---"
   ]
  },
  {
   "cell_type": "markdown",
   "metadata": {},
   "source": [
    "### A List of Fruits"
   ]
  },
  {
   "cell_type": "code",
   "execution_count": 1,
   "metadata": {},
   "outputs": [],
   "source": [
    "prices = {'apples': '3.0', 'oranges': '2.5', 'kiwis': '4.0'}"
   ]
  },
  {
   "cell_type": "markdown",
   "metadata": {},
   "source": [
    "Q1: Write a for loop over the key of 'prices' and print the key.\n"
   ]
  },
  {
   "cell_type": "code",
   "execution_count": 2,
   "metadata": {},
   "outputs": [
    {
     "name": "stdout",
     "output_type": "stream",
     "text": [
      "apples\n",
      "oranges\n",
      "kiwis\n"
     ]
    }
   ],
   "source": [
    "for price in prices:\n",
    "    print(price)\n",
    "    "
   ]
  },
  {
   "cell_type": "markdown",
   "metadata": {},
   "source": [
    "Q2: Write a for loop over the keys of 'prices' and prints both key and the value."
   ]
  },
  {
   "cell_type": "code",
   "execution_count": 3,
   "metadata": {},
   "outputs": [
    {
     "name": "stdout",
     "output_type": "stream",
     "text": [
      "('apples', '3.0')\n",
      "('oranges', '2.5')\n",
      "('kiwis', '4.0')\n"
     ]
    }
   ],
   "source": [
    "for item in prices.items():\n",
    "    print(item)"
   ]
  },
  {
   "cell_type": "markdown",
   "metadata": {},
   "source": [
    "Q3: write a for loop that iterates over 'SPICED' and prints each letter."
   ]
  },
  {
   "cell_type": "code",
   "execution_count": 5,
   "metadata": {},
   "outputs": [
    {
     "name": "stdout",
     "output_type": "stream",
     "text": [
      "S\n",
      "P\n",
      "I\n",
      "C\n",
      "E\n",
      "D\n"
     ]
    }
   ],
   "source": [
    "for letter in 'SPICED':\n",
    "    print(letter)"
   ]
  },
  {
   "cell_type": "markdown",
   "metadata": {},
   "source": [
    "Q4: Write a for loop to  print a triangle(4x4) with 'Hi' (See the pattern below)\n"
   ]
  },
  {
   "cell_type": "code",
   "execution_count": null,
   "metadata": {},
   "outputs": [],
   "source": [
    "# Hi \n",
    "# Hi Hi \n",
    "# Hi Hi Hi \n",
    "# Hi Hi Hi Hi\n",
    "\n",
    "\n",
    "# Hint= (start, stop, step)\n",
    "# Hint = default start is 0, default step is 1"
   ]
  },
  {
   "cell_type": "code",
   "execution_count": 6,
   "metadata": {},
   "outputs": [
    {
     "name": "stdout",
     "output_type": "stream",
     "text": [
      "Hi \n",
      "Hi Hi \n",
      "Hi Hi Hi \n",
      "Hi Hi Hi Hi \n"
     ]
    }
   ],
   "source": [
    "for i in range(1, 5):\n",
    "    print('Hi ' * i)\n",
    "    "
   ]
  },
  {
   "cell_type": "markdown",
   "metadata": {},
   "source": [
    "Q5: Write a for loop which prints the numbers: 2,4,6,8. Use the range function to iterate over that number sequence."
   ]
  },
  {
   "cell_type": "code",
   "execution_count": 15,
   "metadata": {},
   "outputs": [
    {
     "name": "stdout",
     "output_type": "stream",
     "text": [
      "2\n",
      "4\n",
      "6\n",
      "8\n"
     ]
    }
   ],
   "source": [
    "for i in range(2, 10, 2):\n",
    "    print(i)"
   ]
  },
  {
   "cell_type": "markdown",
   "metadata": {},
   "source": [
    "### Names of Employees"
   ]
  },
  {
   "cell_type": "code",
   "execution_count": 16,
   "metadata": {},
   "outputs": [],
   "source": [
    "names = ['Alice', 'Bob', 'Charlie', 'Delia']\n",
    "jobs = ['doctor', 'builder', 'cook', 'developer']"
   ]
  },
  {
   "cell_type": "markdown",
   "metadata": {},
   "source": [
    "Q6: Write a loop over two lists using zip() which prints 'name works as a job'"
   ]
  },
  {
   "cell_type": "code",
   "execution_count": 17,
   "metadata": {},
   "outputs": [
    {
     "name": "stdout",
     "output_type": "stream",
     "text": [
      "Alice works as a doctor\n",
      "Bob works as a builder\n",
      "Charlie works as a cook\n",
      "Delia works as a developer\n"
     ]
    }
   ],
   "source": [
    "for name, job in zip(names, jobs):\n",
    "    print(f'{name} works as a {job}')\n"
   ]
  },
  {
   "cell_type": "code",
   "execution_count": 22,
   "metadata": {},
   "outputs": [
    {
     "name": "stdout",
     "output_type": "stream",
     "text": [
      "Alice works as a doctor\n",
      "Bob works as a builder\n",
      "Charlie works as a cook\n",
      "Delia works as a developer\n"
     ]
    }
   ],
   "source": [
    "for index, name in enumerate(names):\n",
    "    print(f'{name} works as a {jobs[index]}')"
   ]
  },
  {
   "cell_type": "markdown",
   "metadata": {},
   "source": [
    "Q7: write a for loop which prints all the names in the list except 'Charlie'"
   ]
  },
  {
   "cell_type": "code",
   "execution_count": 23,
   "metadata": {},
   "outputs": [],
   "source": [
    "names = ['Alice', 'Bob', 'Charlie', 'Delia']\n",
    "\n",
    "# Hint: if statement and continue\n",
    "\n",
    "# please write your solution here"
   ]
  },
  {
   "cell_type": "code",
   "execution_count": 29,
   "metadata": {},
   "outputs": [
    {
     "name": "stdout",
     "output_type": "stream",
     "text": [
      "Alice\n",
      "Bob\n",
      "Delia\n"
     ]
    }
   ],
   "source": [
    "for name in names:\n",
    "    if name != 'Charlie':\n",
    "        print(name)"
   ]
  },
  {
   "cell_type": "markdown",
   "metadata": {},
   "source": [
    "### The List with 11 numbers"
   ]
  },
  {
   "cell_type": "markdown",
   "metadata": {},
   "source": [
    "Q8: Assume that we are working with the list [0, 1, 2, 3, 4, 5, 6, 7, 8, 9, 10]. \n",
    "\n",
    "1. Write a `for` loop to iterate over the list and print each number.\n",
    "2. Add a condition to that for loop which only prints a number if it is even. (**Hint**: use the `%` operator.)\n",
    "\n",
    "    a. Do not only print the even number but store them in the list `evens`.\n",
    "3. Can you modify the condition in question (2) so that the for loop only prints a number if it is odd?\n",
    "4. Now modify the `for` loop so that we print out the index of the elements along with the elements themselves."
   ]
  },
  {
   "cell_type": "code",
   "execution_count": 54,
   "metadata": {},
   "outputs": [],
   "source": [
    "my_list = [0, 1, 2, 3, 4, 5, 6, 7, 8, 9, 10]"
   ]
  },
  {
   "cell_type": "code",
   "execution_count": 55,
   "metadata": {},
   "outputs": [
    {
     "name": "stdout",
     "output_type": "stream",
     "text": [
      "0\n",
      "1\n",
      "2\n",
      "3\n",
      "4\n",
      "5\n",
      "6\n",
      "7\n",
      "8\n",
      "9\n",
      "10\n"
     ]
    }
   ],
   "source": [
    "for i in my_list:\n",
    "    print(i)"
   ]
  },
  {
   "cell_type": "code",
   "execution_count": 56,
   "metadata": {},
   "outputs": [
    {
     "name": "stdout",
     "output_type": "stream",
     "text": [
      "0\n",
      "2\n",
      "4\n",
      "6\n",
      "8\n",
      "10\n",
      "even number list:  [0, 2, 4, 6, 8, 10]\n"
     ]
    }
   ],
   "source": [
    "evens = [ ]\n",
    "\n",
    "for i in my_list:\n",
    "    if i % 2 == 0:\n",
    "        print(i)\n",
    "        evens.append(i)\n",
    "      \n",
    "\n",
    "print('even number list: ', evens)"
   ]
  },
  {
   "cell_type": "code",
   "execution_count": 57,
   "metadata": {},
   "outputs": [
    {
     "name": "stdout",
     "output_type": "stream",
     "text": [
      "1\n",
      "3\n",
      "5\n",
      "7\n",
      "9\n",
      "odd numbers list:  [1, 3, 5, 7, 9]\n"
     ]
    }
   ],
   "source": [
    "odds = [ ]\n",
    "\n",
    "for i in my_list:\n",
    "    if i % 2 != 0:\n",
    "        print(i)\n",
    "        odds.append(i)\n",
    "    \n",
    "print('odd numbers list: ', odds)"
   ]
  },
  {
   "cell_type": "code",
   "execution_count": 58,
   "metadata": {},
   "outputs": [
    {
     "name": "stdout",
     "output_type": "stream",
     "text": [
      "(0, 0)\n",
      "(1, 1)\n",
      "(2, 2)\n",
      "(3, 3)\n",
      "(4, 4)\n",
      "(5, 5)\n",
      "(6, 6)\n",
      "(7, 7)\n",
      "(8, 8)\n",
      "(9, 9)\n",
      "(10, 10)\n"
     ]
    }
   ],
   "source": [
    "for index in enumerate(my_list):\n",
    "    print(index)"
   ]
  },
  {
   "cell_type": "markdown",
   "metadata": {},
   "source": [
    "### Clean customer names\n",
    "\n",
    "Q9: you have given a list of customer names. As a data analyst you want to work with these customers, but first you have to bring them into a consistent format. Please create a new list 'customer_names_clean' that holds all the customer names of 'customer_names' in lower case."
   ]
  },
  {
   "cell_type": "code",
   "execution_count": 80,
   "metadata": {},
   "outputs": [],
   "source": [
    "customer_names = ['KUBIKOM Company GmbH',\n",
    "'Company Hauser',\n",
    "'artofhome',\n",
    "'Atlas Companyservice GmbH',\n",
    "'McRae Company',\n",
    "'Companywerte24.de',\n",
    "'Picaflor Company GmbH',\n",
    "'Behrmann Company GmbH',\n",
    "'Blackert & Borchers Company GmbH & Co KG',\n",
    "'Company Martin Lang',\n",
    "'pleasanthome company GmbH']"
   ]
  },
  {
   "cell_type": "code",
   "execution_count": 73,
   "metadata": {},
   "outputs": [
    {
     "name": "stdout",
     "output_type": "stream",
     "text": [
      "['kubikom company gmbh', 'company hauser', 'artofhome', 'atlas companyservice gmbh', 'mcrae company', 'companywerte24.de', 'picaflor company gmbh', 'behrmann company gmbh', 'blackert & borchers company gmbh & co kg', 'company martin lang', 'pleasanthome company gmbh']\n"
     ]
    }
   ],
   "source": [
    "customer_name_clean = []\n",
    "for i in range(len(customer_names)):\n",
    "    customer_names[i] = customer_names[i].lower()\n",
    "    customer_name_clean.append(customer_names[i])\n",
    "    \n",
    "print(customer_name_clean)\n",
    "    "
   ]
  },
  {
   "cell_type": "markdown",
   "metadata": {},
   "source": [
    "Q10: Now, we are only interested in the actual customers name. Please check if the company name ends with 'Company GmbH', 'GmbH' or 'Company GmbH & Co KG', if yes, then remove this part (which string method could you use for that?), otherwise just leave the customer_name untouched. In both cases assign the output of your if condition to a new list called 'customer_names_extracted'."
   ]
  },
  {
   "cell_type": "code",
   "execution_count": 87,
   "metadata": {},
   "outputs": [
    {
     "name": "stdout",
     "output_type": "stream",
     "text": [
      "['kubikom', 'company hauser', 'artofhome', 'atlas companyservice', 'mcrae company', 'companywerte24.de', 'picaflor', 'behrmann', 'blackert & borchers  & co kg', 'company martin lang', 'pleasanthome company']\n"
     ]
    }
   ],
   "source": [
    "remove_words = ['Company GmbH', 'GmbH', 'Company GmbH & Co KG']\n",
    "customer_names_extracted = []\n",
    "for name in customer_names:\n",
    "    customer_names_cleaned = name\n",
    "    for change in remove_words:\n",
    "        customer_names_cleaned = customer_names_cleaned.replace(change, \"\")\n",
    "    customer_names_extracted.append(customer_names_cleaned.strip())\n",
    "    \n",
    "    customer_names_extracted = [word.lower() for word in customer_names_extracted]\n",
    "print(customer_names_extracted)"
   ]
  },
  {
   "cell_type": "markdown",
   "metadata": {},
   "source": [
    "### Clean email addresses"
   ]
  },
  {
   "cell_type": "markdown",
   "metadata": {},
   "source": [
    "Q11: For later analysis we would like to store the email provider in a seperate column.\n",
    "Please extract the email provider from all email addresses in 'email_address_list' and store it in a new list called 'email_provider_list'."
   ]
  },
  {
   "cell_type": "code",
   "execution_count": 89,
   "metadata": {},
   "outputs": [],
   "source": [
    "email_address_list = [\n",
    "'nolan_mckinney3462@the-quickest.com',\n",
    "'brenk4987@bestmail.us',\n",
    "'hugh_mckay4695@postpro.net',\n",
    "'aline3529@emailplus.org',\n",
    "'vaneldik8972@internetemails.net',\n",
    "'efren1904@imap.cc',\n",
    "'oralia_amptman2077@hotmail.com',\n",
    "'edgar8593@fastmail.es',\n",
    "'roseanne7176@ownmail.net',\n",
    "'ramirez7701@123mail.org',\n",
    "'ardell3815@mailsent.net',\n",
    "'terry4639@allmail.net',\n",
    "'dale896@swift-mail.com',\n",
    "'erich_cowan3404@bestmail.us',\n",
    "'agueda4209@mm.st'\n",
    "]"
   ]
  },
  {
   "cell_type": "code",
   "execution_count": 92,
   "metadata": {},
   "outputs": [
    {
     "name": "stdout",
     "output_type": "stream",
     "text": [
      "List of E-mail providers are: ['the-quickest.com', 'bestmail.us', 'postpro.net', 'emailplus.org', 'internetemails.net', 'imap.cc', 'hotmail.com', 'fastmail.es', 'ownmail.net', '123mail.org', 'mailsent.net', 'allmail.net', 'swift-mail.com', 'bestmail.us', 'mm.st']\n"
     ]
    }
   ],
   "source": [
    "email_provider_list = []\n",
    "for email in email_address_list:\n",
    "    provider = email.split('@')[1]\n",
    "    email_provider_list.append(provider)\n",
    "\n",
    "    \n",
    "print(f'List of E-mail providers are: {email_provider_list}')\n"
   ]
  },
  {
   "cell_type": "markdown",
   "metadata": {},
   "source": [
    "### The list with customer data"
   ]
  },
  {
   "cell_type": "markdown",
   "metadata": {},
   "source": [
    "Q12: You have received a list with the personal data of new customers. For each customer, the first name, age and purchased product is stored in a list.\n",
    "1. Use the correct indices to write the following sentence for customer 3:\n",
    "\"{first name} is {age} years old and has bought {product}\".\n",
    "\n",
    "2. Use a for loop to iterate through all customers and print \n",
    "\"{first name} is {age} years old and has bought {product}\".\n",
    "for each of them\n",
    "\n",
    "3. Iterate through all customers and print \"Customer number {index}: {first name} is {age} years old and has bought {product}\"."
   ]
  },
  {
   "cell_type": "code",
   "execution_count": 101,
   "metadata": {},
   "outputs": [],
   "source": [
    "# pay attention! this is a list of lists...\n",
    "\n",
    "customers = [['Paul', 33, 'Macbook Pro'],\n",
    "            ['Anna', 12, 'Looping Louie'],\n",
    "            ['Gina', 85, 'Photo Album'],\n",
    "            ['Kim', 59, 'Plants']]"
   ]
  },
  {
   "cell_type": "code",
   "execution_count": 100,
   "metadata": {},
   "outputs": [
    {
     "name": "stdout",
     "output_type": "stream",
     "text": [
      "Gina is 85 years old and has bought Photo Album\n"
     ]
    }
   ],
   "source": [
    "print(f\"{customers[2][0]} is {customers[2][1]} years old and has bought {customers[2][2]}\")\n",
    "\n"
   ]
  },
  {
   "cell_type": "code",
   "execution_count": 102,
   "metadata": {},
   "outputs": [
    {
     "name": "stdout",
     "output_type": "stream",
     "text": [
      "First name: Paul, Age: 33, has bought Macbook Pro\n",
      "First name: Anna, Age: 12, has bought Looping Louie\n",
      "First name: Gina, Age: 85, has bought Photo Album\n",
      "First name: Kim, Age: 59, has bought Plants\n"
     ]
    }
   ],
   "source": [
    "for customer in customers:\n",
    "    name = customer[0]\n",
    "    age = customer[1]\n",
    "    item = customer[2]\n",
    "    print(f'First name: {name}, Age: {age}, has bought {item}')\n"
   ]
  },
  {
   "cell_type": "code",
   "execution_count": 104,
   "metadata": {},
   "outputs": [
    {
     "name": "stdout",
     "output_type": "stream",
     "text": [
      "Customer number 0: Paul is 33 years old has bought Macbook Pro\n",
      "Customer number 1: Anna is 12 years old has bought Looping Louie\n",
      "Customer number 2: Gina is 85 years old has bought Photo Album\n",
      "Customer number 3: Kim is 59 years old has bought Plants\n"
     ]
    }
   ],
   "source": [
    "for index, customer in enumerate(customers):\n",
    "    print(f'Customer number {index}: {customer[0]} is {customer[1]} years old has bought {customer[2]}')\n"
   ]
  },
  {
   "cell_type": "markdown",
   "metadata": {},
   "source": [
    "<details><summary>\n",
    "Click here for a hint.\n",
    "    </summary>\n",
    "    1. With customers[0] you access the first nested list ['Paul', 33, 'Macbook Pro']. You can index each of those elements again.\n",
    "    Try out: customers[0][0]\n",
    "    \n",
    "2. With a for loop you iterate through each customer in \"customers\", now each personal data from the customer can be accessed with: customer[0] (is first name) etc.\n",
    "    \n",
    "3. For the index, you will need to iterate through enumerate(customers).\n",
    "</details>"
   ]
  }
 ],
 "metadata": {
  "kernelspec": {
   "display_name": "base",
   "language": "python",
   "name": "python3"
  },
  "language_info": {
   "codemirror_mode": {
    "name": "ipython",
    "version": 3
   },
   "file_extension": ".py",
   "mimetype": "text/x-python",
   "name": "python",
   "nbconvert_exporter": "python",
   "pygments_lexer": "ipython3",
   "version": "3.13.5"
  }
 },
 "nbformat": 4,
 "nbformat_minor": 2
}
